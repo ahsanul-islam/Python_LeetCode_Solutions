{
 "cells": [
  {
   "attachments": {},
   "cell_type": "markdown",
   "metadata": {},
   "source": [
    "# Leetcode Homework problem : 1\n",
    "# Maximum Product of Three Numbers"
   ]
  },
  {
   "cell_type": "markdown",
   "metadata": {},
   "source": [
    "## Function"
   ]
  },
  {
   "cell_type": "code",
   "execution_count": 1,
   "metadata": {},
   "outputs": [],
   "source": [
    "def maximumProduct(nums):\n",
    "        neg=sum([x<0 for x in nums])\n",
    "        nums.sort()\n",
    "        if (neg>1) and (nums[0]*nums[1]*nums[-1]>nums[-1]*nums[-2]*nums[-3]):\n",
    "            return nums[-1]*nums[0]*nums[1]\n",
    "        else:\n",
    "            return nums[-1]*nums[-2]*nums[-3]"
   ]
  },
  {
   "cell_type": "markdown",
   "metadata": {},
   "source": [
    "## Input-Output checking"
   ]
  },
  {
   "cell_type": "code",
   "execution_count": 2,
   "metadata": {},
   "outputs": [
    {
     "name": "stdout",
     "output_type": "stream",
     "text": [
      "Input : [1, 2, 3, -5, -4]\n",
      "Output : 60\n"
     ]
    }
   ],
   "source": [
    "inp = [1,2,3,-5,-4]\n",
    "print('Input : {}'.format(inp))\n",
    "print('Output : {}'.format(maximumProduct(inp)))"
   ]
  },
  {
   "cell_type": "markdown",
   "metadata": {},
   "source": [
    "# Leetcode Homework problem: 2\n",
    "\n",
    "#  Richest Customer Wealth"
   ]
  },
  {
   "cell_type": "markdown",
   "metadata": {},
   "source": [
    "## Function"
   ]
  },
  {
   "cell_type": "code",
   "execution_count": 3,
   "metadata": {},
   "outputs": [],
   "source": [
    "def maximumWealth(accounts):\n",
    "        return max([sum(x) for x in accounts])"
   ]
  },
  {
   "cell_type": "markdown",
   "metadata": {},
   "source": [
    "## Input-Output checking"
   ]
  },
  {
   "cell_type": "code",
   "execution_count": 4,
   "metadata": {},
   "outputs": [
    {
     "name": "stdout",
     "output_type": "stream",
     "text": [
      "Input : [[2, 8, 7], [7, 1, 3], [1, 9, 5]]\n",
      "Output : 17\n"
     ]
    }
   ],
   "source": [
    "inp = [[2,8,7],[7,1,3],[1,9,5]]\n",
    "print('Input : {}'.format(inp))\n",
    "print('Output : {}'.format(maximumWealth(inp)))"
   ]
  },
  {
   "cell_type": "markdown",
   "metadata": {},
   "source": [
    "# Leetcode Homework problem: 3\n",
    "\n",
    "# Shuffle the Array\n",
    "\n",
    "\n",
    "\n",
    "\n",
    "## Function"
   ]
  },
  {
   "cell_type": "code",
   "execution_count": 5,
   "metadata": {},
   "outputs": [],
   "source": [
    "def shuffle(nums,n):\n",
    "        l = []\n",
    "        for i in range(n):\n",
    "            l.append(nums[i])\n",
    "            l.append(nums[n+i])\n",
    "        return l"
   ]
  },
  {
   "cell_type": "markdown",
   "metadata": {},
   "source": [
    "## Input-Output checking"
   ]
  },
  {
   "cell_type": "code",
   "execution_count": 6,
   "metadata": {},
   "outputs": [
    {
     "name": "stdout",
     "output_type": "stream",
     "text": [
      "Input : [2, 5, 1, 3, 4, 7]\n",
      "Output : [2, 3, 5, 4, 1, 7]\n"
     ]
    }
   ],
   "source": [
    "inp = [2,5,1,3,4,7]\n",
    "n   = 3\n",
    "print('Input : {}'.format(inp))\n",
    "print('Output : {}'.format(shuffle(inp,n)))"
   ]
  },
  {
   "cell_type": "markdown",
   "metadata": {},
   "source": [
    "# Leetcode Homework problem: 4\n",
    "\n",
    "# Valid Perfect Square\n",
    "\n",
    "\n",
    "\n",
    "\n",
    "## Function"
   ]
  },
  {
   "cell_type": "code",
   "execution_count": 7,
   "metadata": {},
   "outputs": [],
   "source": [
    "def isPerfectSquare(num):\n",
    "        return int(num**0.5)**2==num"
   ]
  },
  {
   "cell_type": "markdown",
   "metadata": {},
   "source": [
    "## Input-Output checking"
   ]
  },
  {
   "cell_type": "code",
   "execution_count": 8,
   "metadata": {},
   "outputs": [
    {
     "name": "stdout",
     "output_type": "stream",
     "text": [
      "Input : 12\n",
      "Output : False\n",
      "Input : 16\n",
      "Output : True\n"
     ]
    }
   ],
   "source": [
    "n   = 12\n",
    "\n",
    "print('Input : {}'.format(n))\n",
    "print('Output : {}'.format(isPerfectSquare(n)))\n",
    "\n",
    "n = 16 \n",
    "\n",
    "print('Input : {}'.format(n))\n",
    "print('Output : {}'.format(isPerfectSquare(n)))"
   ]
  },
  {
   "cell_type": "code",
   "execution_count": null,
   "metadata": {},
   "outputs": [],
   "source": []
  }
 ],
 "metadata": {
  "kernelspec": {
   "display_name": "Python 3",
   "language": "python",
   "name": "python3"
  },
  "language_info": {
   "codemirror_mode": {
    "name": "ipython",
    "version": 3
   },
   "file_extension": ".py",
   "mimetype": "text/x-python",
   "name": "python",
   "nbconvert_exporter": "python",
   "pygments_lexer": "ipython3",
   "version": "3.8.5"
  }
 },
 "nbformat": 4,
 "nbformat_minor": 4
}
